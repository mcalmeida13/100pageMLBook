{
  "nbformat": 4,
  "nbformat_minor": 0,
  "metadata": {
    "colab": {
      "name": "100PageML",
      "provenance": [],
      "authorship_tag": "ABX9TyPRAD69eTtgAHeyue6SQpAK",
      "include_colab_link": true
    },
    "kernelspec": {
      "name": "python3",
      "display_name": "Python 3"
    }
  },
  "cells": [
    {
      "cell_type": "markdown",
      "metadata": {
        "id": "view-in-github",
        "colab_type": "text"
      },
      "source": [
        "<a href=\"https://colab.research.google.com/github/mcalmeida13/100pageMLBook/blob/main/100PageML.ipynb\" target=\"_parent\"><img src=\"https://colab.research.google.com/assets/colab-badge.svg\" alt=\"Open In Colab\"/></a>"
      ]
    },
    {
      "cell_type": "markdown",
      "metadata": {
        "id": "shccDRjzj-kc"
      },
      "source": [
        "#Chapter 4"
      ]
    },
    {
      "cell_type": "markdown",
      "metadata": {
        "id": "7jejAGh4kCj_"
      },
      "source": [
        "##Gradient Descent\n",
        "\n",
        "Main goal is to learn gradient descent using a one-feature dataset. We want to find the line which best fits the data. In order to do this, we need to find the optimal parameters $w$ and $b$\n",
        "\n",
        "\\begin{equation}\n",
        "f(x) = wx +b\n",
        "\\end{equation}\n",
        "\n",
        "$\\alpha$ is the learning rate\n",
        "\n",
        "```\n",
        "dl_dw = $\\frac{\\partial l}{\\partial w}$\n",
        "```\n",
        "```\n",
        "dl_db = $\\frac{\\partial l}{\\partial b}$\n",
        "```\n",
        "$l$ is the loss function, given by\n",
        "\n",
        "\\begin{equation}\n",
        "l = \\frac{1}{N}\\sum_{i=1}ˆN (y_i - (wx_i + b))ˆ2\n",
        "\\end{equation}\n",
        "\n",
        "Since the derivative is\n",
        "\n",
        "\\begin{equation}\n",
        "\\frac{\\partial l}{\\partial w} = \\frac{1}{N}\\sum_{i=1}ˆN -2x_i(y_i - (wx_i + b))\n",
        "\\end{equation}\n",
        "\n",
        "\\begin{equation}\n",
        "\\frac{\\partial l}{\\partial b} = \\frac{1}{N}\\sum_{i=1}ˆN -2(y_i - (wx_i + b))\n",
        "\\end{equation}\n",
        "\n",
        "in Python perspective, $y_i$ and $x_i$ are arrays.\n",
        "\n",
        "\n",
        "We must update $w$ and $b$\n",
        "\\begin{equation}\n",
        "w' = w - \\alpha\\frac{\\partial l}{\\partial w}\n",
        "\\end{equation}\n",
        "\n",
        "\\begin{equation}\n",
        "b' = b - \\alpha\\frac{\\partial l}{\\partial b}\n",
        "\\end{equation}\n",
        "\n",
        "or in code\n",
        "\n",
        "```\n",
        "w' = w - alpha*dl_dw\n",
        "\n",
        "b' = b - alpha*dl_db\n",
        "```\n",
        "\n",
        "So we can create a function which update these values\n",
        "\n"
      ]
    },
    {
      "cell_type": "code",
      "metadata": {
        "id": "jEEKXZzLj5cM"
      },
      "source": [
        "def update_w_and_b(x,y, w, b, alpha):\n",
        "  dl_dw = 0.0 #Starting condition for the derivative\n",
        "  dl_db = 0.0\n",
        "  N = len(x) #Size of summation\n",
        "\n",
        "  #Computing the summation\n",
        "  for i in range(N):\n",
        "    dl_dw += -2*x[i]*(y[i] - (w*x[i] + b)) #derivative of loss function with respect w\n",
        "    dl_db += -2*(y[i] - (w*x[i] + b)) #derivative of loss function with respect b\n",
        "  \n",
        "  #correction of the parameters\n",
        "\n",
        "  w = w - (1/float(N))*alpha*dl_dw\n",
        "  b = b - (1/float(N))*alpha*dl_db\n",
        "\n",
        "  return w,b"
      ],
      "execution_count": 49,
      "outputs": []
    },
    {
      "cell_type": "markdown",
      "metadata": {
        "id": "sqzrloqbpygk"
      },
      "source": [
        "One iteration is not good enough because we are guessing our start, we could be far from the minimum. At minimum, the derivatives are zero. Each iteration is called epoch. For each epoch we are going to do the following steps\n",
        "\n",
        "\n",
        "\n",
        "1.   update $w$ and $b$\n",
        "2.   calculate the average loss\n",
        "\n"
      ]
    },
    {
      "cell_type": "code",
      "metadata": {
        "id": "fv8quy1SqGDz"
      },
      "source": [
        "#average loss function\n",
        "\n",
        "def avg_loss(x,y,w,b):\n",
        "  N = len(x)\n",
        "  total_error = 0.0\n",
        "  for i in range(N):\n",
        "    total_error += (y[i] - (w*x[i]+b))**2 #loss function\n",
        "  return total_error/float(N)\n",
        "  "
      ],
      "execution_count": 50,
      "outputs": []
    },
    {
      "cell_type": "code",
      "metadata": {
        "id": "kwl8X4JnqM5w"
      },
      "source": [
        "def train(x,y,w,b,alpha,epochs):\n",
        "  for e in range(epochs):\n",
        "    w,b = update_w_and_b(x,y,w,b,alpha)\n",
        "\n",
        "    #show the process for epochs multiple of 400\n",
        "    if e%400 == 0:\n",
        "      print(\"epoch\", e, \"loss: \", avg_loss(x,y,w,b))\n",
        "  \n",
        "  return w,b"
      ],
      "execution_count": 51,
      "outputs": []
    },
    {
      "cell_type": "markdown",
      "metadata": {
        "id": "R43o7yg9tkbc"
      },
      "source": [
        "Let's try"
      ]
    },
    {
      "cell_type": "code",
      "metadata": {
        "colab": {
          "base_uri": "https://localhost:8080/",
          "height": 202
        },
        "id": "lgA-GFwjtjnY",
        "outputId": "f7c233c8-021c-4896-91e4-9930790d2048"
      },
      "source": [
        "import pandas as pd\n",
        "import numpy as np\n",
        "import matplotlib.pyplot as plt\n",
        "from sklearn.utils import shuffle\n",
        "\n",
        "\n",
        "url = 'https://raw.githubusercontent.com/mcalmeida13/100pageMLBook/main/Advertising.csv'\n",
        "data = pd.read_csv(url)\n",
        "\n",
        "data.head()"
      ],
      "execution_count": 44,
      "outputs": [
        {
          "output_type": "execute_result",
          "data": {
            "text/html": [
              "<div>\n",
              "<style scoped>\n",
              "    .dataframe tbody tr th:only-of-type {\n",
              "        vertical-align: middle;\n",
              "    }\n",
              "\n",
              "    .dataframe tbody tr th {\n",
              "        vertical-align: top;\n",
              "    }\n",
              "\n",
              "    .dataframe thead th {\n",
              "        text-align: right;\n",
              "    }\n",
              "</style>\n",
              "<table border=\"1\" class=\"dataframe\">\n",
              "  <thead>\n",
              "    <tr style=\"text-align: right;\">\n",
              "      <th></th>\n",
              "      <th>Unnamed: 0</th>\n",
              "      <th>TV</th>\n",
              "      <th>radio</th>\n",
              "      <th>newspaper</th>\n",
              "      <th>sales</th>\n",
              "    </tr>\n",
              "  </thead>\n",
              "  <tbody>\n",
              "    <tr>\n",
              "      <th>0</th>\n",
              "      <td>1</td>\n",
              "      <td>230.1</td>\n",
              "      <td>37.8</td>\n",
              "      <td>69.2</td>\n",
              "      <td>22.1</td>\n",
              "    </tr>\n",
              "    <tr>\n",
              "      <th>1</th>\n",
              "      <td>2</td>\n",
              "      <td>44.5</td>\n",
              "      <td>39.3</td>\n",
              "      <td>45.1</td>\n",
              "      <td>10.4</td>\n",
              "    </tr>\n",
              "    <tr>\n",
              "      <th>2</th>\n",
              "      <td>3</td>\n",
              "      <td>17.2</td>\n",
              "      <td>45.9</td>\n",
              "      <td>69.3</td>\n",
              "      <td>9.3</td>\n",
              "    </tr>\n",
              "    <tr>\n",
              "      <th>3</th>\n",
              "      <td>4</td>\n",
              "      <td>151.5</td>\n",
              "      <td>41.3</td>\n",
              "      <td>58.5</td>\n",
              "      <td>18.5</td>\n",
              "    </tr>\n",
              "    <tr>\n",
              "      <th>4</th>\n",
              "      <td>5</td>\n",
              "      <td>180.8</td>\n",
              "      <td>10.8</td>\n",
              "      <td>58.4</td>\n",
              "      <td>12.9</td>\n",
              "    </tr>\n",
              "  </tbody>\n",
              "</table>\n",
              "</div>"
            ],
            "text/plain": [
              "   Unnamed: 0     TV  radio  newspaper  sales\n",
              "0           1  230.1   37.8       69.2   22.1\n",
              "1           2   44.5   39.3       45.1   10.4\n",
              "2           3   17.2   45.9       69.3    9.3\n",
              "3           4  151.5   41.3       58.5   18.5\n",
              "4           5  180.8   10.8       58.4   12.9"
            ]
          },
          "metadata": {
            "tags": []
          },
          "execution_count": 44
        }
      ]
    },
    {
      "cell_type": "code",
      "metadata": {
        "id": "oBcFhXzbx8se"
      },
      "source": [
        "data = shuffle(data)"
      ],
      "execution_count": 45,
      "outputs": []
    },
    {
      "cell_type": "code",
      "metadata": {
        "id": "TGSrkogkt40Q"
      },
      "source": [
        "x = data['radio']\n",
        "y = data['sales']"
      ],
      "execution_count": 46,
      "outputs": []
    },
    {
      "cell_type": "code",
      "metadata": {
        "colab": {
          "base_uri": "https://localhost:8080/"
        },
        "id": "wTqtJwPov5Iu",
        "outputId": "f7a82ff1-598e-4396-dc2a-97bc8b49f29f"
      },
      "source": [
        "len(x)"
      ],
      "execution_count": 38,
      "outputs": [
        {
          "output_type": "execute_result",
          "data": {
            "text/plain": [
              "200"
            ]
          },
          "metadata": {
            "tags": []
          },
          "execution_count": 38
        }
      ]
    },
    {
      "cell_type": "code",
      "metadata": {
        "colab": {
          "base_uri": "https://localhost:8080/",
          "height": 283
        },
        "id": "er9EcNonuZqM",
        "outputId": "792b48da-88eb-46cb-f1f1-e10810f5661d"
      },
      "source": [
        "plt.scatter(x,y)"
      ],
      "execution_count": 47,
      "outputs": [
        {
          "output_type": "execute_result",
          "data": {
            "text/plain": [
              "<matplotlib.collections.PathCollection at 0x7f95edf77748>"
            ]
          },
          "metadata": {
            "tags": []
          },
          "execution_count": 47
        },
        {
          "output_type": "display_data",
          "data": {
            "image/png": "[encoded data removed]",
            "text/plain": [
              "<Figure size 432x288 with 1 Axes>"
            ]
          },
          "metadata": {
            "tags": [],
            "needs_background": "light"
          }
        }
      ]
    },
    {
      "cell_type": "markdown",
      "metadata": {
        "id": "sCTVVt5huySK"
      },
      "source": [
        "learning rate = 0.001\n",
        "epochs = 15000\n",
        "\n",
        "starting $w=0$, $b=0$"
      ]
    },
    {
      "cell_type": "code",
      "metadata": {
        "colab": {
          "base_uri": "https://localhost:8080/"
        },
        "id": "0cW1XG9yuw7H",
        "outputId": "62170c41-a006-4f47-9e79-81aa238af1f1"
      },
      "source": [
        "w,b = train(x,y,0,0,0.001,15000)"
      ],
      "execution_count": 53,
      "outputs": [
        {
          "output_type": "stream",
          "text": [
            "epoch 0 loss:  92.32078294903626\n",
            "epoch 400 loss:  33.79131790081576\n",
            "epoch 800 loss:  27.9918542960729\n",
            "epoch 1200 loss:  24.33481690722147\n",
            "epoch 1600 loss:  22.028754937538633\n",
            "epoch 2000 loss:  20.57459375662496\n",
            "epoch 2400 loss:  19.657625883308423\n",
            "epoch 2800 loss:  19.07940244306619\n",
            "epoch 3200 loss:  18.71478514667572\n",
            "epoch 3600 loss:  18.48486404079425\n",
            "epoch 4000 loss:  18.33987992881413\n",
            "epoch 4400 loss:  18.248455556762373\n",
            "epoch 4800 loss:  18.19080499291156\n",
            "epoch 5200 loss:  18.154451584758743\n",
            "epoch 5600 loss:  18.131527779750563\n",
            "epoch 6000 loss:  18.117072440822145\n",
            "epoch 6400 loss:  18.1079571642151\n",
            "epoch 6800 loss:  18.102209234814435\n",
            "epoch 7200 loss:  18.098584693967343\n",
            "epoch 7600 loss:  18.096299123732113\n",
            "epoch 8000 loss:  18.094857884270205\n",
            "epoch 8400 loss:  18.093949064600373\n",
            "epoch 8800 loss:  18.09337597927063\n",
            "epoch 9200 loss:  18.093014601974247\n",
            "epoch 9600 loss:  18.092786723954067\n",
            "epoch 10000 loss:  18.09264302817517\n",
            "epoch 10400 loss:  18.09255241620278\n",
            "epoch 10800 loss:  18.092495277923536\n",
            "epoch 11200 loss:  18.092459247552828\n",
            "epoch 11600 loss:  18.09243652744942\n",
            "epoch 12000 loss:  18.092422200561078\n",
            "epoch 12400 loss:  18.092413166283066\n",
            "epoch 12800 loss:  18.09240746942995\n",
            "epoch 13200 loss:  18.09240387709688\n",
            "epoch 13600 loss:  18.09240161183628\n",
            "epoch 14000 loss:  18.092400183403708\n",
            "epoch 14400 loss:  18.092399282659834\n",
            "epoch 14800 loss:  18.092398714666967\n"
          ],
          "name": "stdout"
        }
      ]
    },
    {
      "cell_type": "code",
      "metadata": {
        "id": "UcblN7C2ue0f"
      },
      "source": [
        "def predict(x,w,b):\n",
        "  return w*x + b"
      ],
      "execution_count": 55,
      "outputs": []
    },
    {
      "cell_type": "code",
      "metadata": {
        "colab": {
          "base_uri": "https://localhost:8080/"
        },
        "id": "NqvFY-4kzAFy",
        "outputId": "b8ee0583-cf8c-413a-d8c7-22f85f46a6ae"
      },
      "source": [
        "x_test = 23.0\n",
        "y_pred = predict(x_test,w,b)\n",
        "y_pred"
      ],
      "execution_count": 57,
      "outputs": [
        {
          "output_type": "execute_result",
          "data": {
            "text/plain": [
              "13.968556878212048"
            ]
          },
          "metadata": {
            "tags": []
          },
          "execution_count": 57
        }
      ]
    },
    {
      "cell_type": "code",
      "metadata": {
        "id": "W3JuN-_1zLkB"
      },
      "source": [
        ""
      ],
      "execution_count": null,
      "outputs": []
    }
  ]
}